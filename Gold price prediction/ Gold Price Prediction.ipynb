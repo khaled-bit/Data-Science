{
 "cells": [
  {
   "cell_type": "markdown",
   "id": "5591ad31",
   "metadata": {},
   "source": [
    "# Importing libs"
   ]
  },
  {
   "cell_type": "code",
   "execution_count": 44,
   "id": "32ae7bb8",
   "metadata": {},
   "outputs": [],
   "source": [
    "import numpy as np\n",
    "import pandas as pd\n",
    "import matplotlib.pyplot as plt\n",
    "import seaborn as sns\n",
    "from sklearn.model_selection import train_test_split\n",
    "from sklearn.ensemble import RandomForestRegressor\n",
    "from sklearn import metrics "
   ]
  },
  {
   "cell_type": "markdown",
   "id": "f76f3b47",
   "metadata": {},
   "source": [
    "## data Collection and Preprocessing"
   ]
  },
  {
   "cell_type": "code",
   "execution_count": 45,
   "id": "2977f2c4",
   "metadata": {},
   "outputs": [],
   "source": [
    "gold_data = pd.read_csv(r'C:\\Users\\dell\\Desktop\\Data Science Diploma\\Project 8. Gold Price Prediction using Machine Learning with Python\\archive\\gld_price_data.csv')"
   ]
  },
  {
   "cell_type": "code",
   "execution_count": 46,
   "id": "9264d883",
   "metadata": {},
   "outputs": [
    {
     "data": {
      "text/html": [
       "<div>\n",
       "<style scoped>\n",
       "    .dataframe tbody tr th:only-of-type {\n",
       "        vertical-align: middle;\n",
       "    }\n",
       "\n",
       "    .dataframe tbody tr th {\n",
       "        vertical-align: top;\n",
       "    }\n",
       "\n",
       "    .dataframe thead th {\n",
       "        text-align: right;\n",
       "    }\n",
       "</style>\n",
       "<table border=\"1\" class=\"dataframe\">\n",
       "  <thead>\n",
       "    <tr style=\"text-align: right;\">\n",
       "      <th></th>\n",
       "      <th>Date</th>\n",
       "      <th>SPX</th>\n",
       "      <th>GLD</th>\n",
       "      <th>USO</th>\n",
       "      <th>SLV</th>\n",
       "      <th>EUR/USD</th>\n",
       "    </tr>\n",
       "  </thead>\n",
       "  <tbody>\n",
       "    <tr>\n",
       "      <th>0</th>\n",
       "      <td>1/2/2008</td>\n",
       "      <td>1447.160034</td>\n",
       "      <td>84.860001</td>\n",
       "      <td>78.470001</td>\n",
       "      <td>15.180</td>\n",
       "      <td>1.471692</td>\n",
       "    </tr>\n",
       "    <tr>\n",
       "      <th>1</th>\n",
       "      <td>1/3/2008</td>\n",
       "      <td>1447.160034</td>\n",
       "      <td>85.570000</td>\n",
       "      <td>78.370003</td>\n",
       "      <td>15.285</td>\n",
       "      <td>1.474491</td>\n",
       "    </tr>\n",
       "    <tr>\n",
       "      <th>2</th>\n",
       "      <td>1/4/2008</td>\n",
       "      <td>1411.630005</td>\n",
       "      <td>85.129997</td>\n",
       "      <td>77.309998</td>\n",
       "      <td>15.167</td>\n",
       "      <td>1.475492</td>\n",
       "    </tr>\n",
       "    <tr>\n",
       "      <th>3</th>\n",
       "      <td>1/7/2008</td>\n",
       "      <td>1416.180054</td>\n",
       "      <td>84.769997</td>\n",
       "      <td>75.500000</td>\n",
       "      <td>15.053</td>\n",
       "      <td>1.468299</td>\n",
       "    </tr>\n",
       "    <tr>\n",
       "      <th>4</th>\n",
       "      <td>1/8/2008</td>\n",
       "      <td>1390.189941</td>\n",
       "      <td>86.779999</td>\n",
       "      <td>76.059998</td>\n",
       "      <td>15.590</td>\n",
       "      <td>1.557099</td>\n",
       "    </tr>\n",
       "  </tbody>\n",
       "</table>\n",
       "</div>"
      ],
      "text/plain": [
       "       Date          SPX        GLD        USO     SLV   EUR/USD\n",
       "0  1/2/2008  1447.160034  84.860001  78.470001  15.180  1.471692\n",
       "1  1/3/2008  1447.160034  85.570000  78.370003  15.285  1.474491\n",
       "2  1/4/2008  1411.630005  85.129997  77.309998  15.167  1.475492\n",
       "3  1/7/2008  1416.180054  84.769997  75.500000  15.053  1.468299\n",
       "4  1/8/2008  1390.189941  86.779999  76.059998  15.590  1.557099"
      ]
     },
     "execution_count": 46,
     "metadata": {},
     "output_type": "execute_result"
    }
   ],
   "source": [
    "#print first 5 rows in dataFrame\n",
    "gold_data.head()"
   ]
  },
  {
   "cell_type": "code",
   "execution_count": 47,
   "id": "52d194f2",
   "metadata": {},
   "outputs": [
    {
     "data": {
      "text/html": [
       "<div>\n",
       "<style scoped>\n",
       "    .dataframe tbody tr th:only-of-type {\n",
       "        vertical-align: middle;\n",
       "    }\n",
       "\n",
       "    .dataframe tbody tr th {\n",
       "        vertical-align: top;\n",
       "    }\n",
       "\n",
       "    .dataframe thead th {\n",
       "        text-align: right;\n",
       "    }\n",
       "</style>\n",
       "<table border=\"1\" class=\"dataframe\">\n",
       "  <thead>\n",
       "    <tr style=\"text-align: right;\">\n",
       "      <th></th>\n",
       "      <th>Date</th>\n",
       "      <th>SPX</th>\n",
       "      <th>GLD</th>\n",
       "      <th>USO</th>\n",
       "      <th>SLV</th>\n",
       "      <th>EUR/USD</th>\n",
       "    </tr>\n",
       "  </thead>\n",
       "  <tbody>\n",
       "    <tr>\n",
       "      <th>2285</th>\n",
       "      <td>5/8/2018</td>\n",
       "      <td>2671.919922</td>\n",
       "      <td>124.589996</td>\n",
       "      <td>14.0600</td>\n",
       "      <td>15.5100</td>\n",
       "      <td>1.186789</td>\n",
       "    </tr>\n",
       "    <tr>\n",
       "      <th>2286</th>\n",
       "      <td>5/9/2018</td>\n",
       "      <td>2697.790039</td>\n",
       "      <td>124.330002</td>\n",
       "      <td>14.3700</td>\n",
       "      <td>15.5300</td>\n",
       "      <td>1.184722</td>\n",
       "    </tr>\n",
       "    <tr>\n",
       "      <th>2287</th>\n",
       "      <td>5/10/2018</td>\n",
       "      <td>2723.070068</td>\n",
       "      <td>125.180000</td>\n",
       "      <td>14.4100</td>\n",
       "      <td>15.7400</td>\n",
       "      <td>1.191753</td>\n",
       "    </tr>\n",
       "    <tr>\n",
       "      <th>2288</th>\n",
       "      <td>5/14/2018</td>\n",
       "      <td>2730.129883</td>\n",
       "      <td>124.489998</td>\n",
       "      <td>14.3800</td>\n",
       "      <td>15.5600</td>\n",
       "      <td>1.193118</td>\n",
       "    </tr>\n",
       "    <tr>\n",
       "      <th>2289</th>\n",
       "      <td>5/16/2018</td>\n",
       "      <td>2725.780029</td>\n",
       "      <td>122.543800</td>\n",
       "      <td>14.4058</td>\n",
       "      <td>15.4542</td>\n",
       "      <td>1.182033</td>\n",
       "    </tr>\n",
       "  </tbody>\n",
       "</table>\n",
       "</div>"
      ],
      "text/plain": [
       "           Date          SPX         GLD      USO      SLV   EUR/USD\n",
       "2285   5/8/2018  2671.919922  124.589996  14.0600  15.5100  1.186789\n",
       "2286   5/9/2018  2697.790039  124.330002  14.3700  15.5300  1.184722\n",
       "2287  5/10/2018  2723.070068  125.180000  14.4100  15.7400  1.191753\n",
       "2288  5/14/2018  2730.129883  124.489998  14.3800  15.5600  1.193118\n",
       "2289  5/16/2018  2725.780029  122.543800  14.4058  15.4542  1.182033"
      ]
     },
     "execution_count": 47,
     "metadata": {},
     "output_type": "execute_result"
    }
   ],
   "source": [
    "#print the last 5 rows of dataframe\n",
    "gold_data.tail()"
   ]
  },
  {
   "cell_type": "code",
   "execution_count": 48,
   "id": "b5cd9192",
   "metadata": {},
   "outputs": [
    {
     "data": {
      "text/plain": [
       "(2290, 6)"
      ]
     },
     "execution_count": 48,
     "metadata": {},
     "output_type": "execute_result"
    }
   ],
   "source": [
    "# number of rows and cols\n",
    "gold_data.shape"
   ]
  },
  {
   "cell_type": "code",
   "execution_count": 49,
   "id": "aca0ba25",
   "metadata": {},
   "outputs": [
    {
     "name": "stdout",
     "output_type": "stream",
     "text": [
      "<class 'pandas.core.frame.DataFrame'>\n",
      "RangeIndex: 2290 entries, 0 to 2289\n",
      "Data columns (total 6 columns):\n",
      " #   Column   Non-Null Count  Dtype  \n",
      "---  ------   --------------  -----  \n",
      " 0   Date     2290 non-null   object \n",
      " 1   SPX      2290 non-null   float64\n",
      " 2   GLD      2290 non-null   float64\n",
      " 3   USO      2290 non-null   float64\n",
      " 4   SLV      2290 non-null   float64\n",
      " 5   EUR/USD  2290 non-null   float64\n",
      "dtypes: float64(5), object(1)\n",
      "memory usage: 107.5+ KB\n"
     ]
    }
   ],
   "source": [
    "#getting information about data\n",
    "gold_data.info()\n",
    "#missing values=no"
   ]
  },
  {
   "cell_type": "code",
   "execution_count": 50,
   "id": "980f7186",
   "metadata": {},
   "outputs": [
    {
     "data": {
      "text/plain": [
       "Date       0\n",
       "SPX        0\n",
       "GLD        0\n",
       "USO        0\n",
       "SLV        0\n",
       "EUR/USD    0\n",
       "dtype: int64"
      ]
     },
     "execution_count": 50,
     "metadata": {},
     "output_type": "execute_result"
    }
   ],
   "source": [
    "# checking the number of missing values\n",
    "gold_data.isnull().sum()\n",
    "#no of missing values = 0"
   ]
  },
  {
   "cell_type": "code",
   "execution_count": 51,
   "id": "0cf410ae",
   "metadata": {},
   "outputs": [
    {
     "data": {
      "text/html": [
       "<div>\n",
       "<style scoped>\n",
       "    .dataframe tbody tr th:only-of-type {\n",
       "        vertical-align: middle;\n",
       "    }\n",
       "\n",
       "    .dataframe tbody tr th {\n",
       "        vertical-align: top;\n",
       "    }\n",
       "\n",
       "    .dataframe thead th {\n",
       "        text-align: right;\n",
       "    }\n",
       "</style>\n",
       "<table border=\"1\" class=\"dataframe\">\n",
       "  <thead>\n",
       "    <tr style=\"text-align: right;\">\n",
       "      <th></th>\n",
       "      <th>SPX</th>\n",
       "      <th>GLD</th>\n",
       "      <th>USO</th>\n",
       "      <th>SLV</th>\n",
       "      <th>EUR/USD</th>\n",
       "    </tr>\n",
       "  </thead>\n",
       "  <tbody>\n",
       "    <tr>\n",
       "      <th>count</th>\n",
       "      <td>2290.000000</td>\n",
       "      <td>2290.000000</td>\n",
       "      <td>2290.000000</td>\n",
       "      <td>2290.000000</td>\n",
       "      <td>2290.000000</td>\n",
       "    </tr>\n",
       "    <tr>\n",
       "      <th>mean</th>\n",
       "      <td>1654.315776</td>\n",
       "      <td>122.732875</td>\n",
       "      <td>31.842221</td>\n",
       "      <td>20.084997</td>\n",
       "      <td>1.283653</td>\n",
       "    </tr>\n",
       "    <tr>\n",
       "      <th>std</th>\n",
       "      <td>519.111540</td>\n",
       "      <td>23.283346</td>\n",
       "      <td>19.523517</td>\n",
       "      <td>7.092566</td>\n",
       "      <td>0.131547</td>\n",
       "    </tr>\n",
       "    <tr>\n",
       "      <th>min</th>\n",
       "      <td>676.530029</td>\n",
       "      <td>70.000000</td>\n",
       "      <td>7.960000</td>\n",
       "      <td>8.850000</td>\n",
       "      <td>1.039047</td>\n",
       "    </tr>\n",
       "    <tr>\n",
       "      <th>25%</th>\n",
       "      <td>1239.874969</td>\n",
       "      <td>109.725000</td>\n",
       "      <td>14.380000</td>\n",
       "      <td>15.570000</td>\n",
       "      <td>1.171313</td>\n",
       "    </tr>\n",
       "    <tr>\n",
       "      <th>50%</th>\n",
       "      <td>1551.434998</td>\n",
       "      <td>120.580002</td>\n",
       "      <td>33.869999</td>\n",
       "      <td>17.268500</td>\n",
       "      <td>1.303297</td>\n",
       "    </tr>\n",
       "    <tr>\n",
       "      <th>75%</th>\n",
       "      <td>2073.010070</td>\n",
       "      <td>132.840004</td>\n",
       "      <td>37.827501</td>\n",
       "      <td>22.882500</td>\n",
       "      <td>1.369971</td>\n",
       "    </tr>\n",
       "    <tr>\n",
       "      <th>max</th>\n",
       "      <td>2872.870117</td>\n",
       "      <td>184.589996</td>\n",
       "      <td>117.480003</td>\n",
       "      <td>47.259998</td>\n",
       "      <td>1.598798</td>\n",
       "    </tr>\n",
       "  </tbody>\n",
       "</table>\n",
       "</div>"
      ],
      "text/plain": [
       "               SPX          GLD          USO          SLV      EUR/USD\n",
       "count  2290.000000  2290.000000  2290.000000  2290.000000  2290.000000\n",
       "mean   1654.315776   122.732875    31.842221    20.084997     1.283653\n",
       "std     519.111540    23.283346    19.523517     7.092566     0.131547\n",
       "min     676.530029    70.000000     7.960000     8.850000     1.039047\n",
       "25%    1239.874969   109.725000    14.380000    15.570000     1.171313\n",
       "50%    1551.434998   120.580002    33.869999    17.268500     1.303297\n",
       "75%    2073.010070   132.840004    37.827501    22.882500     1.369971\n",
       "max    2872.870117   184.589996   117.480003    47.259998     1.598798"
      ]
     },
     "execution_count": 51,
     "metadata": {},
     "output_type": "execute_result"
    }
   ],
   "source": [
    "#getting statistical measures of datta\n",
    "gold_data.describe()"
   ]
  },
  {
   "cell_type": "code",
   "execution_count": 52,
   "id": "dbe1d7d6",
   "metadata": {},
   "outputs": [],
   "source": [
    "#25% are less than 1239.874969 of SPX\n",
    "#50% are less than 1551.434998 of SPX\n",
    "#mean what is the range of values lies"
   ]
  },
  {
   "cell_type": "markdown",
   "id": "88dbd621",
   "metadata": {},
   "source": [
    "## Correlation (EDA) \n",
    "- +ve\n",
    "- -ve"
   ]
  },
  {
   "cell_type": "code",
   "execution_count": 53,
   "id": "246efecd",
   "metadata": {},
   "outputs": [],
   "source": [
    "correlation = gold_data.corr()"
   ]
  },
  {
   "cell_type": "code",
   "execution_count": 54,
   "id": "bb40d10f",
   "metadata": {},
   "outputs": [
    {
     "data": {
      "text/plain": [
       "<AxesSubplot:>"
      ]
     },
     "execution_count": 54,
     "metadata": {},
     "output_type": "execute_result"
    },
    {
     "data": {
      "image/png": "[encoded data removed]",
      "text/plain": [
       "<Figure size 576x576 with 2 Axes>"
      ]
     },
     "metadata": {
      "needs_background": "light"
     },
     "output_type": "display_data"
    }
   ],
   "source": [
    "# construct a heatmap to understand the correlation\n",
    "plt.figure(figsize = (8,8))\n",
    "sns.heatmap(correlation,cbar=True,square=True,fmt='.1f',annot=True,annot_kws={'size':8},cmap='Blues')"
   ]
  },
  {
   "cell_type": "code",
   "execution_count": 55,
   "id": "106695da",
   "metadata": {},
   "outputs": [
    {
     "name": "stdout",
     "output_type": "stream",
     "text": [
      "SPX        0.049345\n",
      "GLD        1.000000\n",
      "USO       -0.186360\n",
      "SLV        0.866632\n",
      "EUR/USD   -0.024375\n",
      "Name: GLD, dtype: float64\n"
     ]
    }
   ],
   "source": [
    "# correlation values of GLD\n",
    "print(correlation['GLD'])"
   ]
  },
  {
   "cell_type": "code",
   "execution_count": 56,
   "id": "bce81554",
   "metadata": {},
   "outputs": [
    {
     "name": "stderr",
     "output_type": "stream",
     "text": [
      "D:\\New folder (2)\\lib\\site-packages\\seaborn\\distributions.py:2619: FutureWarning: `distplot` is a deprecated function and will be removed in a future version. Please adapt your code to use either `displot` (a figure-level function with similar flexibility) or `histplot` (an axes-level function for histograms).\n",
      "  warnings.warn(msg, FutureWarning)\n"
     ]
    },
    {
     "data": {
      "text/plain": [
       "<AxesSubplot:xlabel='GLD', ylabel='Density'>"
      ]
     },
     "execution_count": 56,
     "metadata": {},
     "output_type": "execute_result"
    },
    {
     "data": {
      "image/png": "[encoded data removed]",
      "text/plain": [
       "<Figure size 432x288 with 1 Axes>"
      ]
     },
     "metadata": {
      "needs_background": "light"
     },
     "output_type": "display_data"
    }
   ],
   "source": [
    "# Disribution of Gold Price\n",
    "sns.distplot(gold_data['GLD'],color='green')\n",
    "#most values lies around 120\n",
    "#few values after 160 , before 80\n",
    "#pump around 90 , 160\n",
    "#density is number of values we have is it a percentage "
   ]
  },
  {
   "cell_type": "markdown",
   "id": "7a1c8da7",
   "metadata": {},
   "source": [
    "## splitting the feature and target "
   ]
  },
  {
   "cell_type": "code",
   "execution_count": 57,
   "id": "d2709b42",
   "metadata": {},
   "outputs": [],
   "source": [
    "X =gold_data.drop(['Date','GLD'], axis=1)\n",
    "Y = gold_data['GLD']"
   ]
  },
  {
   "cell_type": "code",
   "execution_count": 58,
   "id": "a146ab7f",
   "metadata": {},
   "outputs": [
    {
     "name": "stdout",
     "output_type": "stream",
     "text": [
      "0        84.860001\n",
      "1        85.570000\n",
      "2        85.129997\n",
      "3        84.769997\n",
      "4        86.779999\n",
      "           ...    \n",
      "2285    124.589996\n",
      "2286    124.330002\n",
      "2287    125.180000\n",
      "2288    124.489998\n",
      "2289    122.543800\n",
      "Name: GLD, Length: 2290, dtype: float64\n"
     ]
    }
   ],
   "source": [
    " print(Y)"
   ]
  },
  {
   "cell_type": "markdown",
   "id": "3493e0a3",
   "metadata": {},
   "source": [
    "## Splitting the Training data and test data"
   ]
  },
  {
   "cell_type": "code",
   "execution_count": 59,
   "id": "139361ef",
   "metadata": {},
   "outputs": [],
   "source": [
    "X_train ,X_test ,Y_train,Y_test = train_test_split(X,Y,test_size=0.2,random_state=2)"
   ]
  },
  {
   "cell_type": "markdown",
   "id": "f2c717ce",
   "metadata": {},
   "source": [
    "## model training\n",
    "- random forest regressor"
   ]
  },
  {
   "cell_type": "code",
   "execution_count": 60,
   "id": "f8077efa",
   "metadata": {},
   "outputs": [],
   "source": [
    " regressor = RandomForestRegressor(n_estimators=100)"
   ]
  },
  {
   "cell_type": "code",
   "execution_count": 61,
   "id": "71c8a253",
   "metadata": {},
   "outputs": [
    {
     "data": {
      "text/plain": [
       "RandomForestRegressor()"
      ]
     },
     "execution_count": 61,
     "metadata": {},
     "output_type": "execute_result"
    }
   ],
   "source": [
    "# training the model\n",
    "regressor.fit(X_train,Y_train)"
   ]
  },
  {
   "cell_type": "markdown",
   "id": "819decfc",
   "metadata": {},
   "source": [
    "## model evaluation\n"
   ]
  },
  {
   "cell_type": "code",
   "execution_count": 62,
   "id": "5ad46c6b",
   "metadata": {},
   "outputs": [],
   "source": [
    "# prediction on Test Data\n",
    "test_data_prediction = regressor.predict(X_test)"
   ]
  },
  {
   "cell_type": "code",
   "execution_count": 63,
   "id": "7673b119",
   "metadata": {},
   "outputs": [
    {
     "name": "stdout",
     "output_type": "stream",
     "text": [
      "[168.78599949  81.47620012 115.9955001  127.52720058 120.82580127\n",
      " 154.77289764 150.28299979 126.10810049 117.37939867 125.84540111\n",
      " 116.52680089 171.9323007  142.01999898 167.7980986  115.24130009\n",
      " 117.69820037 138.45090239 170.16100044 159.69100289 158.5512992\n",
      " 155.13829936 125.3303002  175.60409967 157.06860383 125.23590025\n",
      "  93.82099972  77.06610023 120.85849991 119.09509929 167.47699976\n",
      "  88.15580064 125.06750008  91.01720059 117.83489985 121.10909926\n",
      " 136.1093999  115.42380134 115.20690082 147.71109992 107.04930086\n",
      " 104.33650242  87.200798   126.50170017 118.03549988 153.09199908\n",
      " 119.56100016 108.30689978 107.83179814  93.26540077 127.01559804\n",
      "  74.69410061 113.62649901 121.3166003  111.34299899 118.82819888\n",
      " 120.04529951 159.58769908 168.40200072 147.06989683  85.95629867\n",
      "  94.21430073  86.85729883  90.56349982 118.85260091 126.48620069\n",
      " 127.61469994 170.09239944 122.25679933 117.32269905  98.39820039\n",
      " 168.26880102 142.70509806 132.42620204 121.07380207 120.18669958\n",
      " 119.77050049 114.48670184 118.12680027 106.94810082 127.81670127\n",
      " 114.01009982 107.0153004  116.67170089 119.61879839  89.05330068\n",
      "  88.18399863 146.64870221 127.21720018 113.33060012 109.92169854\n",
      " 107.90189909  77.35689919 170.14600218 114.03849912 121.60149918\n",
      " 127.96840238 154.84209764  91.74399929 134.96960006 158.43520257\n",
      " 125.81530078 125.33090039 130.5687024  114.81040144 119.79680016\n",
      "  92.15019993 110.16969893 167.99709871 157.27669938 114.22009954\n",
      " 106.35470146  79.91419952 113.37060018 125.82680048 107.34129906\n",
      " 119.29780059 155.78710363 159.47959894 120.06869985 134.71700265\n",
      " 101.37470001 117.7089978  119.40150043 113.08420088 102.74409906\n",
      " 160.02829794  98.70280034 148.13539891 125.60330091 170.08889946\n",
      " 125.95339897 127.36979728 127.31140148 113.80969917 112.6274009\n",
      " 123.47229917 102.15619916  89.36399985 124.1232996  102.11219933\n",
      " 107.05669906 113.44800078 117.33270059  99.18589926 121.72410056\n",
      " 163.14989965  87.4568986  106.73390026 117.24820067 127.67490136\n",
      " 124.04220057  80.6065991  120.26600043 158.14159792  88.00660012\n",
      " 110.08799965 118.91499917 171.58749898 102.92229887 105.72190043\n",
      " 122.50300035 158.43119766  87.38639829  93.38870034 112.63080023\n",
      " 177.33189975 114.23619969 119.45060018  94.64820072 125.78490051\n",
      " 165.54480053 114.64450115 116.93270123  88.31889866 148.6246005\n",
      " 120.27449979  89.31750029 112.24750014 117.10690025 118.73350106\n",
      "  87.9418992   94.25999975 117.0711001  118.67580176 120.1861003\n",
      " 126.70039801 121.9049997  151.18519956 165.95600037 118.54969957\n",
      " 120.322701   149.25110044 118.65629895 173.21869907 105.37559944\n",
      " 104.93690112 149.05900053 113.72720055 124.79490132 146.89649982\n",
      " 119.60560144 115.28350068 112.69720005 113.39930226 142.33060178\n",
      " 117.93809765 102.89880036 115.87080114 103.57640165  98.6035001\n",
      " 117.45220088  90.63190023  91.76000065 153.48309819 102.6665997\n",
      " 154.69100076 114.37330154 138.97020083  90.1106985  115.40359913\n",
      " 114.27499993 123.27220036 121.80210058 165.36750134  92.97769951\n",
      " 135.53850141 121.33709909 120.79130062 104.54160024 142.65150243\n",
      " 121.82449937 116.75650048 113.70380081 127.24389723 122.52429963\n",
      " 125.73309911 121.22540028  86.81429889 132.3276017  145.342702\n",
      "  92.64239986 157.34420095 159.0002018  126.18239907 165.33579959\n",
      " 108.83349976 109.76750033 103.58459829  94.22370034 127.66140274\n",
      " 107.08790065 159.75570117 121.85080036 131.79860082 130.60050219\n",
      " 160.1411998   90.16979884 174.74380164 128.05759991 126.83949818\n",
      "  86.62679931 124.47289935 150.17159781  89.53880059 106.82240006\n",
      " 108.98650009  84.84769914 136.31950036 154.48190274 139.318404\n",
      "  74.56710013 151.53250077 125.99839915 126.77859971 127.47779937\n",
      " 108.54749919 155.85350009 114.4330012  116.94780141 125.0727995\n",
      " 154.1087016  121.30619988 156.37309896  93.00550036 125.43920151\n",
      " 125.36629989  87.79750045  92.15609914 126.30119939 128.41880347\n",
      " 113.3280012  117.48389734 121.04229996 127.28819774 119.23990082\n",
      " 136.84080004  93.8788994  119.85580054 113.24440119  94.22229927\n",
      " 109.00329949  87.16109906 109.00479948  89.43339957  92.536\n",
      " 131.41940402 162.46330028  89.37209986 119.65200092 133.40850118\n",
      " 123.88780008 128.36110183 101.97089858  88.87869889 131.74730047\n",
      " 119.40500029 108.38169989 167.64260104 115.20640031  86.63129878\n",
      " 118.91910057  91.06369946 161.77420003 116.52680036 121.4942\n",
      " 160.21569735 120.10579908 112.62529965 108.45929884 126.66869933\n",
      "  76.15979996 102.96729965 127.52760255 121.82879907  92.6509002\n",
      " 132.09150049 118.17830083 115.97339944 154.61210258 159.34300035\n",
      " 109.99349954 155.75419836 119.24160088 160.2961008  118.60530045\n",
      " 158.22169961 115.15399927 116.57190004 149.36509894 114.67330087\n",
      " 125.6248986  166.26209872 117.75410007 125.31759903 153.39660355\n",
      " 153.45700235 131.99120052 114.66490027 121.1395016  124.88540084\n",
      "  89.85060031 123.32529996 154.67770152 111.72110047 106.63220009\n",
      " 161.68370105 118.20049964 165.76509993 134.26050054 114.72039964\n",
      " 152.92929851 168.64239956 115.35540032 113.96090128 157.27059913\n",
      "  85.16429882 127.04200055 127.84190054 129.05919992 124.1149008\n",
      " 123.95350062  90.5109011  153.55179962  97.15089955 137.59009983\n",
      "  88.99089949 106.84120037 115.04590044 112.26340099 124.2979994\n",
      "  91.33939861 125.43000142 162.33209759 119.74769861 164.98970168\n",
      " 126.71959803 112.23110038 127.45619909  94.89019924  90.984\n",
      " 103.23679916 120.87369967  83.06379956 126.45630034 160.66300514\n",
      " 117.2521008  118.25069988 120.18899963 122.70889948 120.07520101\n",
      " 121.48040038 118.30260045 106.98200014 147.9835993  126.31279864\n",
      " 115.89430072  74.15049994 127.863001   154.77840037 123.15090002\n",
      " 125.59500082  88.78070059 103.26949858 124.68800044 120.23960031\n",
      "  73.37920095 151.32599979 121.3281003  104.52410023  86.29009804\n",
      " 115.05709907 172.16499787 119.76910024 160.30369756 113.24939948\n",
      " 121.53669993 118.83480042  95.9366998  118.83930014 125.77720071\n",
      " 118.52429938  96.26220099 154.02760137 122.02399997 147.47009974\n",
      " 159.30430195 113.92110058 122.50159938 151.02829836 127.46410022\n",
      " 165.9443999  135.97769962 119.8425996  167.34329811 108.24089906\n",
      " 121.73759884 138.6276012  106.42559883]\n"
     ]
    }
   ],
   "source": [
    "print(test_data_prediction)"
   ]
  },
  {
   "cell_type": "code",
   "execution_count": 64,
   "id": "2f3ea8ad",
   "metadata": {},
   "outputs": [
    {
     "name": "stdout",
     "output_type": "stream",
     "text": [
      "R squared error :  0.9890004292758088\n"
     ]
    }
   ],
   "source": [
    "#R square error\n",
    "error_score =metrics.r2_score(Y_test,test_data_prediction)\n",
    "print(\"R squared error : \" ,error_score)\n",
    "#to know if this number is good or not we need to look at the range of data"
   ]
  },
  {
   "cell_type": "markdown",
   "id": "1970b05e",
   "metadata": {},
   "source": [
    "## Visualise the Comapre between actual and predictied Values in a plot"
   ]
  },
  {
   "cell_type": "code",
   "execution_count": 65,
   "id": "68828a94",
   "metadata": {},
   "outputs": [],
   "source": [
    "Y_test = list(Y_test)\n"
   ]
  },
  {
   "cell_type": "code",
   "execution_count": 66,
   "id": "200a9a0d",
   "metadata": {},
   "outputs": [
    {
     "data": {
      "image/png": "[encoded data removed]",
      "text/plain": [
       "<Figure size 432x288 with 1 Axes>"
      ]
     },
     "metadata": {
      "needs_background": "light"
     },
     "output_type": "display_data"
    }
   ],
   "source": [
    "plt.plot(Y_test,color='blue',label='Actual Value')\n",
    "plt.plot(test_data_prediction, color='green' ,label='Predicted Value')\n",
    "plt.title('Actual price vs Predicted value')\n",
    "plt.xlabel('number of values')\n",
    "plt.ylabel('gold price')\n",
    "plt.legend()\n",
    "plt.show()"
   ]
  }
 ],
 "metadata": {
  "kernelspec": {
   "display_name": "Python 3 (ipykernel)",
   "language": "python",
   "name": "python3"
  },
  "language_info": {
   "codemirror_mode": {
    "name": "ipython",
    "version": 3
   },
   "file_extension": ".py",
   "mimetype": "text/x-python",
   "name": "python",
   "nbconvert_exporter": "python",
   "pygments_lexer": "ipython3",
   "version": "3.9.12"
  }
 },
 "nbformat": 4,
 "nbformat_minor": 5
}
